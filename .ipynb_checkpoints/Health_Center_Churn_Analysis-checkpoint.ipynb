{
 "cells": [
  {
   "cell_type": "code",
   "execution_count": null,
   "id": "87865d7e-8f78-4e3f-9831-4c29d136b0e2",
   "metadata": {},
   "outputs": [],
   "source": [
    "import pandas as pd\n",
    "\n",
    "# Load the CSV\n",
    "df = pd.read_csv(\"health_center_attrition.csv\")\n",
    "\n",
    "# View first 5 rows\n",
    "df.head()\n",
    "\n",
    "# Check the data shape (Know how many rows/columns there are)\n",
    "print(\"Shape:\",df.shape)\n",
    "\n",
    "# Data types and nulls (Understand what each column looks like (types, nulls))\n",
    "df.info()\n",
    "\n",
    "# Basic statistics for numerical columns (See if the data needs cleaning)\n",
    "df.describe()\n",
    "\n",
    "# Look at churn distribution (Check class balance (how many churned vs not churned))\n",
    "df['Churned'].value_counts()\n",
    "\n",
    "\n",
    "# Convert categorical columns\n",
    "df['Gender'] = df['Gender'].astype('category')\n",
    "df['Chronic_Disease'] = df['Chronic_Disease'].astype('category')\n",
    "df['Insurance'] = df['Insurance'].astype('category')\n",
    "\n",
    "# Optional: Rename columns (for nicer formatting later)\n",
    "df.columns = df.columns.str.replace(\"_\", \" \").str.title()\n",
    "\n",
    "# Check again\n",
    "df.info()\n"
   ]
  },
  {
   "cell_type": "code",
   "execution_count": null,
   "id": "f8ee32ee-d437-4db3-ad8c-e1f26e0bcf7f",
   "metadata": {},
   "outputs": [],
   "source": []
  },
  {
   "cell_type": "code",
   "execution_count": null,
   "id": "707d77d4-46f7-4588-b20c-aad46e146c3c",
   "metadata": {},
   "outputs": [],
   "source": []
  }
 ],
 "metadata": {
  "kernelspec": {
   "display_name": "Python 3 (ipykernel)",
   "language": "python",
   "name": "python3"
  },
  "language_info": {
   "codemirror_mode": {
    "name": "ipython",
    "version": 3
   },
   "file_extension": ".py",
   "mimetype": "text/x-python",
   "name": "python",
   "nbconvert_exporter": "python",
   "pygments_lexer": "ipython3",
   "version": "3.11.9"
  }
 },
 "nbformat": 4,
 "nbformat_minor": 5
}
